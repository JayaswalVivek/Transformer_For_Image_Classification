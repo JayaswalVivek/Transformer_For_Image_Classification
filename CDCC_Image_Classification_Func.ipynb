{
 "cells": [
  {
   "cell_type": "code",
   "execution_count": null,
   "id": "0d27561b",
   "metadata": {},
   "outputs": [],
   "source": [
    "def select_indexes(max_samples_per_class, trng_prob, in_frame):\n",
    "    selected_idx = []\n",
    "\n",
    "    for label in class_labels:\n",
    "        class_idx = np.where(in_frame['damage'] == label)[0]\n",
    "        num_samples = int(np.min([max_samples_per_class, len(class_idx)*trng_prob]))\n",
    "        sub_idx = rng.choice(class_idx, num_samples, replace=False).tolist()\n",
    "        selected_idx += sub_idx\n",
    "        \n",
    "    return selected_idx"
   ]
  },
  {
   "cell_type": "code",
   "execution_count": null,
   "id": "a46135ce",
   "metadata": {},
   "outputs": [],
   "source": [
    "def generate_dataset(in_frame):\n",
    "\n",
    "    num_samples = in_frame.shape[0]\n",
    "    \n",
    "    img_path, img_label = [], []\n",
    "    for i in range(num_samples):\n",
    "        img_path += [image_path.format(in_frame.iloc[i, 2])]\n",
    "        img_label += [in_frame.iloc[i, 1]]\n",
    "\n",
    "    dataset = Dataset.from_dict({\"image\":img_path, \"label\":img_label})\n",
    "    dataset = dataset.cast_column(\"image\", Image()) # by default decode = TRUE\n",
    "    dataset = dataset.cast_column(\"label\", ClassLabel(num_classes=5, names=class_labels, id=None))\n",
    "    return dataset"
   ]
  },
  {
   "cell_type": "code",
   "execution_count": null,
   "id": "9fc398f4",
   "metadata": {},
   "outputs": [],
   "source": [
    "# the compute_metrics function takes a Named Tuple as input:\n",
    "# predictions, which are the logits of the model as Numpy arrays,\n",
    "# and label_ids, which are the ground-truth labels as Numpy arrays.\n",
    "def compute_metrics(eval_pred):\n",
    "    predictions = np.argmax(eval_pred.predictions, axis=1)\n",
    "    return metric.compute(predictions=predictions, references=eval_pred.label_ids)"
   ]
  },
  {
   "cell_type": "code",
   "execution_count": null,
   "id": "a06488ec",
   "metadata": {},
   "outputs": [],
   "source": [
    "def preprocess_trng(batch):\n",
    "    batch[\"pixel_values\"] = [trng_transform(image.convert(\"RGB\")) for image in batch[\"image\"]]\n",
    "    return batch"
   ]
  },
  {
   "cell_type": "code",
   "execution_count": null,
   "id": "d8913b35",
   "metadata": {},
   "outputs": [],
   "source": [
    "def preprocess_val(batch):\n",
    "    batch[\"pixel_values\"] = [val_transform(image.convert(\"RGB\")) for image in batch[\"image\"]]\n",
    "    return batch"
   ]
  },
  {
   "cell_type": "code",
   "execution_count": null,
   "id": "a2106a82",
   "metadata": {},
   "outputs": [],
   "source": [
    "# Collate function returns a dictionary with keys corresponding to the input parameters for image classification model\n",
    "# Data collators are objects that will form a batch by using a list of dataset elements as input (https://huggingface.co/docs/transformers/main_classes/data_collator)\n",
    "def img_collate_fn(examples):\n",
    "    pixel_values = torch.stack([example[\"pixel_values\"] for example in examples])\n",
    "    labels = torch.tensor([example[\"label\"] for example in examples])\n",
    "    return {\"pixel_values\": pixel_values, \"labels\": labels}"
   ]
  }
 ],
 "metadata": {
  "kernelspec": {
   "display_name": "Python_3_8_Vision",
   "language": "python",
   "name": "python_3_8_vision"
  },
  "language_info": {
   "codemirror_mode": {
    "name": "ipython",
    "version": 3
   },
   "file_extension": ".py",
   "mimetype": "text/x-python",
   "name": "python",
   "nbconvert_exporter": "python",
   "pygments_lexer": "ipython3",
   "version": "3.8.18"
  }
 },
 "nbformat": 4,
 "nbformat_minor": 5
}
